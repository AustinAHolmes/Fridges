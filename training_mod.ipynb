{
 "cells": [
  {
   "cell_type": "code",
   "execution_count": 17,
   "metadata": {},
   "outputs": [
    {
     "name": "stdout",
     "output_type": "stream",
     "text": [
      "zsh:1: parse error near `-m'\n",
      "zsh:1: parse error near `-m'\n",
      "zsh:1: parse error near `-m'\n",
      "zsh:1: parse error near `-m'\n"
     ]
    }
   ],
   "source": [
    "#import sys\n",
    "!{sys.executable} -m pip install tensorflow\n",
    "!{sys.executable} -m pip install scikit-learn\n",
    "!{sys.executable} -m pip install opencv-python\n",
    "!{sys.executable} -m pip install albumentations"
   ]
  },
  {
   "cell_type": "markdown",
   "metadata": {},
   "source": [
    "Importing Required Libraries"
   ]
  },
  {
   "cell_type": "code",
   "execution_count": 24,
   "metadata": {},
   "outputs": [],
   "source": [
    "import tensorflow as tf\n",
    "from tensorflow.keras import layers, models, applications\n",
    "import numpy as np\n",
    "from sklearn.model_selection import train_test_split\n",
    "import os\n",
    "import cv2\n",
    "from sklearn.metrics import precision_score, recall_score, f1_score, accuracy_score\n",
    "from sklearn.metrics import classification_report\n",
    "import matplotlib.pyplot as plt\n",
    "import albumentations as A\n",
    "from albumentations import (\n",
    "    Compose, RandomRotate90, VerticalFlip, Transpose,\n",
    "    OneOf, GaussNoise, RandomBrightnessContrast\n",
    ")"
   ]
  },
  {
   "cell_type": "markdown",
   "metadata": {},
   "source": [
    "Importing Data from 'Train' folder "
   ]
  },
  {
   "cell_type": "code",
   "execution_count": 8,
   "metadata": {},
   "outputs": [
    {
     "name": "stdout",
     "output_type": "stream",
     "text": [
      "Total number of files: 971\n"
     ]
    }
   ],
   "source": [
    "# Importing data from the 'Train' Folder\n",
    "data = r'Train'\n",
    "# Creating empty list to store filenames\n",
    "files = []\n",
    "# Iterating through the data and storing the filenames in the files list\n",
    "for _, _, files in os.walk(data):\n",
    "    break\n",
    "# Printing the total number of images currently being used to train and test the models below\n",
    "print(f'Total number of files: {len(files)}')\n"
   ]
  },
  {
   "cell_type": "code",
   "execution_count": 25,
   "metadata": {},
   "outputs": [],
   "source": [
    "#Bootstrap function : Perform bootstrapping on a list of images and return the new bootstrap list\n",
    "def bootstrap(imageList, n_samples):\n",
    "    result = [np.random.choice(imageList) for _ in range(n_samples)]\n",
    "    return result\n",
    "\n",
    "#Defining the data augmentation transform variable\n",
    "transforms = Compose([\n",
    "    RandomRotate90(p=0.5),\n",
    "    VerticalFlip(p=0.5),\n",
    "    OneOf([\n",
    "        GaussNoise(),\n",
    "        RandomBrightnessContrast(),\n",
    "    ], p=0.5),\n",
    "])\n",
    "\n",
    "def bootstrap_and_data_augmentation(imageList, n_sample, n_augmentations):\n",
    "    #TO DO:\n",
    "    bootstrap_images = bootstrap(imageList=imageList, n_samples=n_sample)\n"
   ]
  },
  {
   "cell_type": "code",
   "execution_count": 33,
   "metadata": {},
   "outputs": [],
   "source": [
    "bootstrap_images_sample_size_5000 = bootstrap(files,5000)\n",
    "\n",
    "bootstrap_images_sample_size_10000 = bootstrap(files,10000)"
   ]
  },
  {
   "cell_type": "markdown",
   "metadata": {},
   "source": [
    "Classifying the images based on the labels in the filename\n",
    "\n",
    "Something to note, I originally created the array of just size 1 that stored the value of each label in that single spot as 0,1,2 but it resulted in accuracy ratings never changing between epochs and being lower after trying different techniques this is the current attempt that is having the best results, currently values are stored in a numpy array of size 3 where the first value being 1 represents a lower class, the second being 1 represents middle and the third being 1 represents upper class.\n",
    "\n",
    "What Y looks like\n",
    "Y = ([[1. 0. 0.], [0. 1. 0.], [0. 0. 1.]])"
   ]
  },
  {
   "cell_type": "code",
   "execution_count": 34,
   "metadata": {},
   "outputs": [],
   "source": [
    "\n",
    "\n",
    "def image_label_classification( files):\n",
    "    # Creating a numpy array of zeros the length of the dataset with a size of shape of 3\n",
    "    Y = np.zeros((len(files), 3))\n",
    "\n",
    "    # Loop through the list of filenames\n",
    "    for i, f in enumerate(files):\n",
    "\n",
    "        # If the filename contains 'lower' set the first value of the array to 1\n",
    "        if 'lower' in f:\n",
    "            Y[i, 0] = 1  \n",
    "        # If the filename contains 'middle' set the second value of the array to 1\n",
    "        elif 'middle' in f:\n",
    "            Y[i, 1] = 1  \n",
    "        # If the filename contains 'upper' set the third value of the array to 1\n",
    "        elif 'upper' in f:\n",
    "            Y[i, 2] = 1  \n",
    "\n",
    "    #Create the path to each file \n",
    "    files = [os.path.join(data, f) for f in files]\n",
    "\n",
    "    #Example showing the path to the file and the coorisponding label showing what we have classified as middle in the numpy array.\n",
    "    print(f'File location: {files[1]}\\n Classified as: {Y[1]}')\n",
    "    # Printing the total number of images currently being used to train and test the models below\n",
    "    print(f'Total number of files: {len(files)}')\n",
    "    return files"
   ]
  },
  {
   "cell_type": "code",
   "execution_count": 35,
   "metadata": {},
   "outputs": [
    {
     "name": "stdout",
     "output_type": "stream",
     "text": [
      "File location: Train/Train/Train/Train/img569_lower.jpg\n",
      " Classified as: [1. 0. 0.]\n",
      "Total number of files: 971\n",
      "File location: Train/Train/Train/Train/img1820_lower.png\n",
      " Classified as: [1. 0. 0.]\n",
      "Total number of files: 5000\n",
      "File location: Train/Train/Train/Train/img1724_lower.png\n",
      " Classified as: [1. 0. 0.]\n",
      "Total number of files: 10000\n"
     ]
    }
   ],
   "source": [
    "#Raw image files and Calling the image_label_classification funciton to classify the images based on the labels in the filename\n",
    "files = image_label_classification(files)\n",
    "\n",
    "#5000 bootstrap image files and Calling the image_label_classification funciton to classify the images based on the labels in the filename\n",
    "files_bootstrap_images_sample_size_5000 = image_label_classification(bootstrap_images_sample_size_5000)\n",
    "\n",
    "#10000 bootstrap image files and Calling the image_label_classification funciton to classify the images based on the labels in the filename\n",
    "files_bootstrap_images_sample_size_10000 = image_label_classification(bootstrap_images_sample_size_10000)"
   ]
  },
  {
   "cell_type": "markdown",
   "metadata": {},
   "source": [
    "# Creating a Sequential model \n",
    "This runs for multiple image sizes to determine the Evaluation scores based on image size"
   ]
  },
  {
   "cell_type": "code",
   "execution_count": 10,
   "metadata": {},
   "outputs": [
    {
     "name": "stdout",
     "output_type": "stream",
     "text": [
      "Epoch 1/5\n"
     ]
    },
    {
     "name": "stderr",
     "output_type": "stream",
     "text": [
      "/Users/dornlee/CodeBase/Fridges/.venv/lib/python3.9/site-packages/keras/src/layers/convolutional/base_conv.py:107: UserWarning: Do not pass an `input_shape`/`input_dim` argument to a layer. When using Sequential models, prefer using an `Input(shape)` object as the first layer in the model instead.\n",
      "  super().__init__(activity_regularizer=activity_regularizer, **kwargs)\n"
     ]
    },
    {
     "name": "stdout",
     "output_type": "stream",
     "text": [
      "\u001b[1m10/10\u001b[0m \u001b[32m━━━━━━━━━━━━━━━━━━━━\u001b[0m\u001b[37m\u001b[0m \u001b[1m0s\u001b[0m 10ms/step - accuracy: 0.4199 - loss: 1.0348 - val_accuracy: 0.4615 - val_loss: 1.0348\n",
      "Epoch 2/5\n",
      "\u001b[1m10/10\u001b[0m \u001b[32m━━━━━━━━━━━━━━━━━━━━\u001b[0m\u001b[37m\u001b[0m \u001b[1m0s\u001b[0m 4ms/step - accuracy: 0.4649 - loss: 0.9936 - val_accuracy: 0.4038 - val_loss: 1.0481\n",
      "Epoch 3/5\n",
      "\u001b[1m10/10\u001b[0m \u001b[32m━━━━━━━━━━━━━━━━━━━━\u001b[0m\u001b[37m\u001b[0m \u001b[1m0s\u001b[0m 4ms/step - accuracy: 0.4713 - loss: 0.9905 - val_accuracy: 0.4295 - val_loss: 1.0419\n",
      "Epoch 4/5\n",
      "\u001b[1m10/10\u001b[0m \u001b[32m━━━━━━━━━━━━━━━━━━━━\u001b[0m\u001b[37m\u001b[0m \u001b[1m0s\u001b[0m 4ms/step - accuracy: 0.4440 - loss: 0.9981 - val_accuracy: 0.4038 - val_loss: 1.0506\n",
      "Epoch 5/5\n",
      "\u001b[1m10/10\u001b[0m \u001b[32m━━━━━━━━━━━━━━━━━━━━\u001b[0m\u001b[37m\u001b[0m \u001b[1m0s\u001b[0m 4ms/step - accuracy: 0.4598 - loss: 1.0033 - val_accuracy: 0.4423 - val_loss: 1.0427\n",
      "\u001b[1m7/7\u001b[0m \u001b[32m━━━━━━━━━━━━━━━━━━━━\u001b[0m\u001b[37m\u001b[0m \u001b[1m0s\u001b[0m 3ms/step \n",
      "Image Size: (16, 16)\n",
      "              precision    recall  f1-score   support\n",
      "\n",
      "           0       0.67      0.02      0.04        88\n",
      "           1       0.43      0.99      0.60        84\n",
      "           2       0.00      0.00      0.00        23\n",
      "\n",
      "    accuracy                           0.44       195\n",
      "   macro avg       0.37      0.34      0.22       195\n",
      "weighted avg       0.49      0.44      0.28       195\n",
      "\n"
     ]
    },
    {
     "name": "stderr",
     "output_type": "stream",
     "text": [
      "/Users/dornlee/CodeBase/Fridges/.venv/lib/python3.9/site-packages/sklearn/metrics/_classification.py:1531: UndefinedMetricWarning: Precision is ill-defined and being set to 0.0 in labels with no predicted samples. Use `zero_division` parameter to control this behavior.\n",
      "  _warn_prf(average, modifier, f\"{metric.capitalize()} is\", len(result))\n",
      "/Users/dornlee/CodeBase/Fridges/.venv/lib/python3.9/site-packages/sklearn/metrics/_classification.py:1531: UndefinedMetricWarning: Precision is ill-defined and being set to 0.0 in labels with no predicted samples. Use `zero_division` parameter to control this behavior.\n",
      "  _warn_prf(average, modifier, f\"{metric.capitalize()} is\", len(result))\n",
      "/Users/dornlee/CodeBase/Fridges/.venv/lib/python3.9/site-packages/sklearn/metrics/_classification.py:1531: UndefinedMetricWarning: Precision is ill-defined and being set to 0.0 in labels with no predicted samples. Use `zero_division` parameter to control this behavior.\n",
      "  _warn_prf(average, modifier, f\"{metric.capitalize()} is\", len(result))\n"
     ]
    },
    {
     "name": "stdout",
     "output_type": "stream",
     "text": [
      "Epoch 1/5\n"
     ]
    },
    {
     "name": "stderr",
     "output_type": "stream",
     "text": [
      "/Users/dornlee/CodeBase/Fridges/.venv/lib/python3.9/site-packages/keras/src/layers/convolutional/base_conv.py:107: UserWarning: Do not pass an `input_shape`/`input_dim` argument to a layer. When using Sequential models, prefer using an `Input(shape)` object as the first layer in the model instead.\n",
      "  super().__init__(activity_regularizer=activity_regularizer, **kwargs)\n"
     ]
    },
    {
     "name": "stdout",
     "output_type": "stream",
     "text": [
      "\u001b[1m10/10\u001b[0m \u001b[32m━━━━━━━━━━━━━━━━━━━━\u001b[0m\u001b[37m\u001b[0m \u001b[1m1s\u001b[0m 15ms/step - accuracy: 0.3365 - loss: 1.0508 - val_accuracy: 0.4295 - val_loss: 1.0309\n",
      "Epoch 2/5\n",
      "\u001b[1m10/10\u001b[0m \u001b[32m━━━━━━━━━━━━━━━━━━━━\u001b[0m\u001b[37m\u001b[0m \u001b[1m0s\u001b[0m 8ms/step - accuracy: 0.4773 - loss: 0.9978 - val_accuracy: 0.4295 - val_loss: 1.0317\n",
      "Epoch 3/5\n",
      "\u001b[1m10/10\u001b[0m \u001b[32m━━━━━━━━━━━━━━━━━━━━\u001b[0m\u001b[37m\u001b[0m \u001b[1m0s\u001b[0m 8ms/step - accuracy: 0.4419 - loss: 1.0064 - val_accuracy: 0.4808 - val_loss: 1.0321\n",
      "Epoch 4/5\n",
      "\u001b[1m10/10\u001b[0m \u001b[32m━━━━━━━━━━━━━━━━━━━━\u001b[0m\u001b[37m\u001b[0m \u001b[1m0s\u001b[0m 8ms/step - accuracy: 0.5219 - loss: 1.0128 - val_accuracy: 0.4487 - val_loss: 1.0320\n",
      "Epoch 5/5\n",
      "\u001b[1m10/10\u001b[0m \u001b[32m━━━━━━━━━━━━━━━━━━━━\u001b[0m\u001b[37m\u001b[0m \u001b[1m0s\u001b[0m 8ms/step - accuracy: 0.4729 - loss: 0.9840 - val_accuracy: 0.5321 - val_loss: 1.0200\n",
      "\u001b[1m7/7\u001b[0m \u001b[32m━━━━━━━━━━━━━━━━━━━━\u001b[0m\u001b[37m\u001b[0m \u001b[1m0s\u001b[0m 4ms/step \n",
      "Image Size: (32, 32)\n",
      "              precision    recall  f1-score   support\n",
      "\n",
      "           0       0.65      0.27      0.38        88\n",
      "           1       0.48      0.90      0.63        84\n",
      "           2       0.00      0.00      0.00        23\n",
      "\n",
      "    accuracy                           0.51       195\n",
      "   macro avg       0.38      0.39      0.34       195\n",
      "weighted avg       0.50      0.51      0.44       195\n",
      "\n"
     ]
    },
    {
     "name": "stderr",
     "output_type": "stream",
     "text": [
      "/Users/dornlee/CodeBase/Fridges/.venv/lib/python3.9/site-packages/sklearn/metrics/_classification.py:1531: UndefinedMetricWarning: Precision is ill-defined and being set to 0.0 in labels with no predicted samples. Use `zero_division` parameter to control this behavior.\n",
      "  _warn_prf(average, modifier, f\"{metric.capitalize()} is\", len(result))\n",
      "/Users/dornlee/CodeBase/Fridges/.venv/lib/python3.9/site-packages/sklearn/metrics/_classification.py:1531: UndefinedMetricWarning: Precision is ill-defined and being set to 0.0 in labels with no predicted samples. Use `zero_division` parameter to control this behavior.\n",
      "  _warn_prf(average, modifier, f\"{metric.capitalize()} is\", len(result))\n",
      "/Users/dornlee/CodeBase/Fridges/.venv/lib/python3.9/site-packages/sklearn/metrics/_classification.py:1531: UndefinedMetricWarning: Precision is ill-defined and being set to 0.0 in labels with no predicted samples. Use `zero_division` parameter to control this behavior.\n",
      "  _warn_prf(average, modifier, f\"{metric.capitalize()} is\", len(result))\n"
     ]
    },
    {
     "name": "stdout",
     "output_type": "stream",
     "text": [
      "Epoch 1/5\n"
     ]
    },
    {
     "name": "stderr",
     "output_type": "stream",
     "text": [
      "/Users/dornlee/CodeBase/Fridges/.venv/lib/python3.9/site-packages/keras/src/layers/convolutional/base_conv.py:107: UserWarning: Do not pass an `input_shape`/`input_dim` argument to a layer. When using Sequential models, prefer using an `Input(shape)` object as the first layer in the model instead.\n",
      "  super().__init__(activity_regularizer=activity_regularizer, **kwargs)\n"
     ]
    },
    {
     "name": "stdout",
     "output_type": "stream",
     "text": [
      "\u001b[1m10/10\u001b[0m \u001b[32m━━━━━━━━━━━━━━━━━━━━\u001b[0m\u001b[37m\u001b[0m \u001b[1m1s\u001b[0m 33ms/step - accuracy: 0.3145 - loss: 1.1368 - val_accuracy: 0.4038 - val_loss: 1.0699\n",
      "Epoch 2/5\n",
      "\u001b[1m10/10\u001b[0m \u001b[32m━━━━━━━━━━━━━━━━━━━━\u001b[0m\u001b[37m\u001b[0m \u001b[1m0s\u001b[0m 26ms/step - accuracy: 0.4608 - loss: 1.0382 - val_accuracy: 0.4295 - val_loss: 1.0301\n",
      "Epoch 3/5\n",
      "\u001b[1m10/10\u001b[0m \u001b[32m━━━━━━━━━━━━━━━━━━━━\u001b[0m\u001b[37m\u001b[0m \u001b[1m0s\u001b[0m 26ms/step - accuracy: 0.5005 - loss: 0.9900 - val_accuracy: 0.5192 - val_loss: 1.0288\n",
      "Epoch 4/5\n",
      "\u001b[1m10/10\u001b[0m \u001b[32m━━━━━━━━━━━━━━━━━━━━\u001b[0m\u001b[37m\u001b[0m \u001b[1m0s\u001b[0m 26ms/step - accuracy: 0.5650 - loss: 0.9843 - val_accuracy: 0.4615 - val_loss: 1.0692\n",
      "Epoch 5/5\n",
      "\u001b[1m10/10\u001b[0m \u001b[32m━━━━━━━━━━━━━━━━━━━━\u001b[0m\u001b[37m\u001b[0m \u001b[1m0s\u001b[0m 26ms/step - accuracy: 0.6087 - loss: 0.9291 - val_accuracy: 0.4615 - val_loss: 1.0703\n",
      "WARNING:tensorflow:5 out of the last 15 calls to <function TensorFlowTrainer.make_predict_function.<locals>.one_step_on_data_distributed at 0x383dd0e50> triggered tf.function retracing. Tracing is expensive and the excessive number of tracings could be due to (1) creating @tf.function repeatedly in a loop, (2) passing tensors with different shapes, (3) passing Python objects instead of tensors. For (1), please define your @tf.function outside of the loop. For (2), @tf.function has reduce_retracing=True option that can avoid unnecessary retracing. For (3), please refer to https://www.tensorflow.org/guide/function#controlling_retracing and https://www.tensorflow.org/api_docs/python/tf/function for  more details.\n",
      "\u001b[1m7/7\u001b[0m \u001b[32m━━━━━━━━━━━━━━━━━━━━\u001b[0m\u001b[37m\u001b[0m \u001b[1m0s\u001b[0m 7ms/step \n",
      "Image Size: (64, 64)\n",
      "              precision    recall  f1-score   support\n",
      "\n",
      "           0       0.47      0.52      0.49        88\n",
      "           1       0.48      0.56      0.52        84\n",
      "           2       0.00      0.00      0.00        23\n",
      "\n",
      "    accuracy                           0.48       195\n",
      "   macro avg       0.32      0.36      0.34       195\n",
      "weighted avg       0.42      0.48      0.45       195\n",
      "\n"
     ]
    },
    {
     "name": "stderr",
     "output_type": "stream",
     "text": [
      "/Users/dornlee/CodeBase/Fridges/.venv/lib/python3.9/site-packages/sklearn/metrics/_classification.py:1531: UndefinedMetricWarning: Precision is ill-defined and being set to 0.0 in labels with no predicted samples. Use `zero_division` parameter to control this behavior.\n",
      "  _warn_prf(average, modifier, f\"{metric.capitalize()} is\", len(result))\n",
      "/Users/dornlee/CodeBase/Fridges/.venv/lib/python3.9/site-packages/sklearn/metrics/_classification.py:1531: UndefinedMetricWarning: Precision is ill-defined and being set to 0.0 in labels with no predicted samples. Use `zero_division` parameter to control this behavior.\n",
      "  _warn_prf(average, modifier, f\"{metric.capitalize()} is\", len(result))\n",
      "/Users/dornlee/CodeBase/Fridges/.venv/lib/python3.9/site-packages/sklearn/metrics/_classification.py:1531: UndefinedMetricWarning: Precision is ill-defined and being set to 0.0 in labels with no predicted samples. Use `zero_division` parameter to control this behavior.\n",
      "  _warn_prf(average, modifier, f\"{metric.capitalize()} is\", len(result))\n"
     ]
    },
    {
     "name": "stdout",
     "output_type": "stream",
     "text": [
      "Epoch 1/5\n"
     ]
    },
    {
     "name": "stderr",
     "output_type": "stream",
     "text": [
      "/Users/dornlee/CodeBase/Fridges/.venv/lib/python3.9/site-packages/keras/src/layers/convolutional/base_conv.py:107: UserWarning: Do not pass an `input_shape`/`input_dim` argument to a layer. When using Sequential models, prefer using an `Input(shape)` object as the first layer in the model instead.\n",
      "  super().__init__(activity_regularizer=activity_regularizer, **kwargs)\n"
     ]
    },
    {
     "name": "stdout",
     "output_type": "stream",
     "text": [
      "\u001b[1m10/10\u001b[0m \u001b[32m━━━━━━━━━━━━━━━━━━━━\u001b[0m\u001b[37m\u001b[0m \u001b[1m2s\u001b[0m 147ms/step - accuracy: 0.3957 - loss: 1.9137 - val_accuracy: 0.4038 - val_loss: 1.0729\n",
      "Epoch 2/5\n",
      "\u001b[1m10/10\u001b[0m \u001b[32m━━━━━━━━━━━━━━━━━━━━\u001b[0m\u001b[37m\u001b[0m \u001b[1m1s\u001b[0m 140ms/step - accuracy: 0.4758 - loss: 1.0440 - val_accuracy: 0.4295 - val_loss: 1.0473\n",
      "Epoch 3/5\n",
      "\u001b[1m10/10\u001b[0m \u001b[32m━━━━━━━━━━━━━━━━━━━━\u001b[0m\u001b[37m\u001b[0m \u001b[1m1s\u001b[0m 138ms/step - accuracy: 0.5160 - loss: 0.9634 - val_accuracy: 0.4615 - val_loss: 1.0212\n",
      "Epoch 4/5\n",
      "\u001b[1m10/10\u001b[0m \u001b[32m━━━━━━━━━━━━━━━━━━━━\u001b[0m\u001b[37m\u001b[0m \u001b[1m1s\u001b[0m 139ms/step - accuracy: 0.6432 - loss: 0.9380 - val_accuracy: 0.4167 - val_loss: 1.0677\n",
      "Epoch 5/5\n",
      "\u001b[1m10/10\u001b[0m \u001b[32m━━━━━━━━━━━━━━━━━━━━\u001b[0m\u001b[37m\u001b[0m \u001b[1m1s\u001b[0m 141ms/step - accuracy: 0.5780 - loss: 0.8776 - val_accuracy: 0.4872 - val_loss: 1.0429\n",
      "WARNING:tensorflow:5 out of the last 15 calls to <function TensorFlowTrainer.make_predict_function.<locals>.one_step_on_data_distributed at 0x383783f70> triggered tf.function retracing. Tracing is expensive and the excessive number of tracings could be due to (1) creating @tf.function repeatedly in a loop, (2) passing tensors with different shapes, (3) passing Python objects instead of tensors. For (1), please define your @tf.function outside of the loop. For (2), @tf.function has reduce_retracing=True option that can avoid unnecessary retracing. For (3), please refer to https://www.tensorflow.org/guide/function#controlling_retracing and https://www.tensorflow.org/api_docs/python/tf/function for  more details.\n",
      "\u001b[1m7/7\u001b[0m \u001b[32m━━━━━━━━━━━━━━━━━━━━\u001b[0m\u001b[37m\u001b[0m \u001b[1m0s\u001b[0m 19ms/step\n",
      "Image Size: (150, 150)\n",
      "              precision    recall  f1-score   support\n",
      "\n",
      "           0       0.47      0.80      0.59        88\n",
      "           1       0.49      0.26      0.34        84\n",
      "           2       0.00      0.00      0.00        23\n",
      "\n",
      "    accuracy                           0.47       195\n",
      "   macro avg       0.32      0.35      0.31       195\n",
      "weighted avg       0.42      0.47      0.41       195\n",
      "\n"
     ]
    },
    {
     "name": "stderr",
     "output_type": "stream",
     "text": [
      "/Users/dornlee/CodeBase/Fridges/.venv/lib/python3.9/site-packages/sklearn/metrics/_classification.py:1531: UndefinedMetricWarning: Precision is ill-defined and being set to 0.0 in labels with no predicted samples. Use `zero_division` parameter to control this behavior.\n",
      "  _warn_prf(average, modifier, f\"{metric.capitalize()} is\", len(result))\n",
      "/Users/dornlee/CodeBase/Fridges/.venv/lib/python3.9/site-packages/sklearn/metrics/_classification.py:1531: UndefinedMetricWarning: Precision is ill-defined and being set to 0.0 in labels with no predicted samples. Use `zero_division` parameter to control this behavior.\n",
      "  _warn_prf(average, modifier, f\"{metric.capitalize()} is\", len(result))\n",
      "/Users/dornlee/CodeBase/Fridges/.venv/lib/python3.9/site-packages/sklearn/metrics/_classification.py:1531: UndefinedMetricWarning: Precision is ill-defined and being set to 0.0 in labels with no predicted samples. Use `zero_division` parameter to control this behavior.\n",
      "  _warn_prf(average, modifier, f\"{metric.capitalize()} is\", len(result))\n"
     ]
    },
    {
     "name": "stdout",
     "output_type": "stream",
     "text": [
      "Epoch 1/5\n"
     ]
    },
    {
     "name": "stderr",
     "output_type": "stream",
     "text": [
      "/Users/dornlee/CodeBase/Fridges/.venv/lib/python3.9/site-packages/keras/src/layers/convolutional/base_conv.py:107: UserWarning: Do not pass an `input_shape`/`input_dim` argument to a layer. When using Sequential models, prefer using an `Input(shape)` object as the first layer in the model instead.\n",
      "  super().__init__(activity_regularizer=activity_regularizer, **kwargs)\n"
     ]
    },
    {
     "name": "stdout",
     "output_type": "stream",
     "text": [
      "\u001b[1m10/10\u001b[0m \u001b[32m━━━━━━━━━━━━━━━━━━━━\u001b[0m\u001b[37m\u001b[0m \u001b[1m4s\u001b[0m 404ms/step - accuracy: 0.3652 - loss: 7.8051 - val_accuracy: 0.4359 - val_loss: 1.0647\n",
      "Epoch 2/5\n",
      "\u001b[1m10/10\u001b[0m \u001b[32m━━━━━━━━━━━━━━━━━━━━\u001b[0m\u001b[37m\u001b[0m \u001b[1m4s\u001b[0m 395ms/step - accuracy: 0.4586 - loss: 1.0743 - val_accuracy: 0.4231 - val_loss: 1.0798\n",
      "Epoch 3/5\n",
      "\u001b[1m10/10\u001b[0m \u001b[32m━━━━━━━━━━━━━━━━━━━━\u001b[0m\u001b[37m\u001b[0m \u001b[1m4s\u001b[0m 397ms/step - accuracy: 0.4919 - loss: 1.0384 - val_accuracy: 0.4679 - val_loss: 1.0325\n",
      "Epoch 4/5\n",
      "\u001b[1m10/10\u001b[0m \u001b[32m━━━━━━━━━━━━━━━━━━━━\u001b[0m\u001b[37m\u001b[0m \u001b[1m4s\u001b[0m 403ms/step - accuracy: 0.5760 - loss: 0.9567 - val_accuracy: 0.4487 - val_loss: 1.0782\n",
      "Epoch 5/5\n",
      "\u001b[1m10/10\u001b[0m \u001b[32m━━━━━━━━━━━━━━━━━━━━\u001b[0m\u001b[37m\u001b[0m \u001b[1m4s\u001b[0m 402ms/step - accuracy: 0.7165 - loss: 0.7585 - val_accuracy: 0.4295 - val_loss: 1.0591\n",
      "\u001b[1m7/7\u001b[0m \u001b[32m━━━━━━━━━━━━━━━━━━━━\u001b[0m\u001b[37m\u001b[0m \u001b[1m0s\u001b[0m 47ms/step\n",
      "Image Size: (250, 250)\n",
      "              precision    recall  f1-score   support\n",
      "\n",
      "           0       0.47      0.52      0.50        88\n",
      "           1       0.44      0.46      0.45        84\n",
      "           2       0.30      0.13      0.18        23\n",
      "\n",
      "    accuracy                           0.45       195\n",
      "   macro avg       0.41      0.37      0.38       195\n",
      "weighted avg       0.44      0.45      0.44       195\n",
      "\n"
     ]
    },
    {
     "name": "stderr",
     "output_type": "stream",
     "text": [
      "/Users/dornlee/CodeBase/Fridges/.venv/lib/python3.9/site-packages/keras/src/layers/convolutional/base_conv.py:107: UserWarning: Do not pass an `input_shape`/`input_dim` argument to a layer. When using Sequential models, prefer using an `Input(shape)` object as the first layer in the model instead.\n",
      "  super().__init__(activity_regularizer=activity_regularizer, **kwargs)\n"
     ]
    },
    {
     "name": "stdout",
     "output_type": "stream",
     "text": [
      "Epoch 1/5\n",
      "\u001b[1m10/10\u001b[0m \u001b[32m━━━━━━━━━━━━━━━━━━━━\u001b[0m\u001b[37m\u001b[0m \u001b[1m21s\u001b[0m 2s/step - accuracy: 0.4225 - loss: 18.5897 - val_accuracy: 0.4551 - val_loss: 1.0737\n",
      "Epoch 2/5\n",
      "\u001b[1m10/10\u001b[0m \u001b[32m━━━━━━━━━━━━━━━━━━━━\u001b[0m\u001b[37m\u001b[0m \u001b[1m20s\u001b[0m 2s/step - accuracy: 0.5395 - loss: 1.0485 - val_accuracy: 0.4103 - val_loss: 1.1342\n",
      "Epoch 3/5\n",
      "\u001b[1m10/10\u001b[0m \u001b[32m━━━━━━━━━━━━━━━━━━━━\u001b[0m\u001b[37m\u001b[0m \u001b[1m20s\u001b[0m 2s/step - accuracy: 0.5743 - loss: 0.9018 - val_accuracy: 0.5064 - val_loss: 1.0665\n",
      "Epoch 4/5\n",
      "\u001b[1m10/10\u001b[0m \u001b[32m━━━━━━━━━━━━━━━━━━━━\u001b[0m\u001b[37m\u001b[0m \u001b[1m20s\u001b[0m 2s/step - accuracy: 0.8459 - loss: 0.5264 - val_accuracy: 0.4551 - val_loss: 1.2674\n",
      "Epoch 5/5\n",
      "\u001b[1m10/10\u001b[0m \u001b[32m━━━━━━━━━━━━━━━━━━━━\u001b[0m\u001b[37m\u001b[0m \u001b[1m20s\u001b[0m 2s/step - accuracy: 0.9775 - loss: 0.3564 - val_accuracy: 0.4231 - val_loss: 1.3925\n",
      "\u001b[1m7/7\u001b[0m \u001b[32m━━━━━━━━━━━━━━━━━━━━\u001b[0m\u001b[37m\u001b[0m \u001b[1m1s\u001b[0m 167ms/step\n",
      "Image Size: (500, 500)\n",
      "              precision    recall  f1-score   support\n",
      "\n",
      "           0       0.47      0.94      0.63        88\n",
      "           1       0.53      0.12      0.19        84\n",
      "           2       0.00      0.00      0.00        23\n",
      "\n",
      "    accuracy                           0.48       195\n",
      "   macro avg       0.33      0.35      0.27       195\n",
      "weighted avg       0.44      0.48      0.37       195\n",
      "\n"
     ]
    },
    {
     "name": "stderr",
     "output_type": "stream",
     "text": [
      "/Users/dornlee/CodeBase/Fridges/.venv/lib/python3.9/site-packages/sklearn/metrics/_classification.py:1531: UndefinedMetricWarning: Precision is ill-defined and being set to 0.0 in labels with no predicted samples. Use `zero_division` parameter to control this behavior.\n",
      "  _warn_prf(average, modifier, f\"{metric.capitalize()} is\", len(result))\n",
      "/Users/dornlee/CodeBase/Fridges/.venv/lib/python3.9/site-packages/sklearn/metrics/_classification.py:1531: UndefinedMetricWarning: Precision is ill-defined and being set to 0.0 in labels with no predicted samples. Use `zero_division` parameter to control this behavior.\n",
      "  _warn_prf(average, modifier, f\"{metric.capitalize()} is\", len(result))\n",
      "/Users/dornlee/CodeBase/Fridges/.venv/lib/python3.9/site-packages/sklearn/metrics/_classification.py:1531: UndefinedMetricWarning: Precision is ill-defined and being set to 0.0 in labels with no predicted samples. Use `zero_division` parameter to control this behavior.\n",
      "  _warn_prf(average, modifier, f\"{metric.capitalize()} is\", len(result))\n"
     ]
    }
   ],
   "source": [
    "# List of image sizes\n",
    "image_size = [(16, 16), (32, 32), (64, 64), (150, 150), (250, 250), (500, 500)]\n",
    "\n",
    "# Epoch count, currently anything over 5 epochs does not result in any change in the accuracy rating\n",
    "epochs = 5\n",
    "\n",
    "# Creating a list to store the image sizes and accuracy ratings for the Sequential Model\n",
    "conv_accuracy_results = []\n",
    "\n",
    "# Looping through each image size\n",
    "for size in image_size:\n",
    "\n",
    "    # Creating a list of each images numerical values\n",
    "    X = []\n",
    "\n",
    "    for file in files:\n",
    "        img = cv2.imread(file) \n",
    "        # Resizing the image based on the specific tuple in image_sizes\n",
    "        img = cv2.resize(img, size) \n",
    "        X.append(img)\n",
    "\n",
    "    # Scaling the image data down to values between 0 and 1\n",
    "    X = np.array(X, dtype='float32') / 255\n",
    "\n",
    "    # Train Test Split to split up the data into training and testing datasets with a current size of 80% training 20% testing data\n",
    "    X_train, X_test, Y_train, Y_test = train_test_split(X, Y, test_size=0.2, random_state=38)\n",
    "\n",
    "    # Creating a Sequential Convolution Neural Network model with 2 layers\n",
    "    model = models.Sequential([\n",
    "    layers.Conv2D(32, (3,3), activation = 'relu', input_shape = (size[0], size[1], 3)),\n",
    "    layers.MaxPooling2D(pool_size=(2, 2)),\n",
    "    layers.Conv2D(64, (3,3), activation='relu', input_shape = (size[0], size[1], 3)),\n",
    "    layers.MaxPooling2D(pool_size=(2, 2)),\n",
    "    layers.Flatten(),\n",
    "    layers.Dense(64, activation='relu'),\n",
    "    # Dense layer of size 3 to match the input size of the numpy array Y\n",
    "    layers.Dense(3, activation='softmax')\n",
    "    ])\n",
    "\n",
    "    # Compiling the model utilizing the adam optimizer and categorical crossentropy \n",
    "    model.compile(optimizer='adam', loss='categorical_crossentropy', metrics=['accuracy'])\n",
    "\n",
    "    # Fitting the model based on the TrainTestSplit data and epochs set from the value epochs\n",
    "    model.fit(X_train, Y_train, epochs=epochs, batch_size=64, validation_split=0.2)\n",
    "    \n",
    "    # Predicting the outputs of the test data using the model\n",
    "    y_pred = model.predict(X_test)\n",
    "\n",
    "    # Converting the One-Hot labels into class indices so they can be used to for evaluation\n",
    "    Y_test_classes = np.argmax(Y_test, axis=1)\n",
    "    Y_pred_classes = np.argmax(y_pred, axis = 1)\n",
    "\n",
    "    # Calculating Evaluation Metrics\n",
    "    accuracy = accuracy_score(Y_test_classes, Y_pred_classes)\n",
    "    precision = precision_score(Y_test_classes,Y_pred_classes, average='weighted', zero_division=1)\n",
    "    recall = recall_score(Y_test_classes,Y_pred_classes, average='weighted', zero_division=1)\n",
    "    f1 = f1_score(Y_test_classes,Y_pred_classes, average='weighted', zero_division=1)\n",
    "    classification_rep = classification_report(Y_test_classes,Y_pred_classes)\n",
    "    \n",
    "    # Appending all the evaluation metrics into the conv_accuracy_results list\n",
    "    conv_accuracy_results.append((size, accuracy, precision, recall, f1, classification_rep))\n",
    "\n",
    "    # Printing the Classification Report for that image size\n",
    "    print(f'Image Size: {size}')\n",
    "    print(classification_rep)\n",
    "\n",
    "    "
   ]
  },
  {
   "cell_type": "markdown",
   "metadata": {},
   "source": [
    "# Graphing the Accuracy Ratings\n",
    "Something to note and look at later, I have ran this multiple times and each output is significantly different, sometimes prefering a smaller image size and sometimes prefering larger."
   ]
  },
  {
   "cell_type": "code",
   "execution_count": 12,
   "metadata": {},
   "outputs": [
    {
     "data": {
      "image/png": "[encoded data removed]",
      "text/plain": [
       "<Figure size 640x480 with 1 Axes>"
      ]
     },
     "metadata": {},
     "output_type": "display_data"
    }
   ],
   "source": [
    "# Creating variables for each item in conv_accuracy_results\n",
    "sizes, acc, prec, recall, f1, classrep = zip(*conv_accuracy_results)\n",
    "\n",
    "# Converting the image sizes into a string so they can be used for the X axis\n",
    "sizes = [str(size) for size in sizes]\n",
    "\n",
    "# Plot showing the Evaluation Metrics vs Image Size\n",
    "plt.plot(sizes, acc, marker='o', color = 'g', label = 'Accuracy Score')\n",
    "# Not using recall as it is identical to the accuracy rating when tested currently\n",
    "#plt.plot(sizes, recall, marker='o', color = 'r', label = 'Recall Score')\n",
    "plt.plot(sizes, prec, marker='o', color = 'y', label = 'Precision Score')\n",
    "plt.plot(sizes, f1, marker='o', color = 'b', label = 'f1 Score')\n",
    "plt.title('Evaluation Metrics vs Image Size for CNN')\n",
    "plt.xlabel('Image Size')\n",
    "plt.ylabel('Evaluation Score')\n",
    "plt.legend()\n",
    "plt.grid()\n",
    "plt.show()"
   ]
  },
  {
   "cell_type": "markdown",
   "metadata": {},
   "source": [
    "# Creating the ResNet Model\n",
    "This runs for multiple image sizes to determine the Evaluation Scores based on image size"
   ]
  },
  {
   "cell_type": "code",
   "execution_count": 13,
   "metadata": {},
   "outputs": [
    {
     "name": "stdout",
     "output_type": "stream",
     "text": [
      "Epoch 1/5\n"
     ]
    },
    {
     "name": "stderr",
     "output_type": "stream",
     "text": [
      "/Users/dornlee/CodeBase/Fridges/.venv/lib/python3.9/site-packages/keras/src/layers/core/dense.py:87: UserWarning: Do not pass an `input_shape`/`input_dim` argument to a layer. When using Sequential models, prefer using an `Input(shape)` object as the first layer in the model instead.\n",
      "  super().__init__(activity_regularizer=activity_regularizer, **kwargs)\n"
     ]
    },
    {
     "name": "stdout",
     "output_type": "stream",
     "text": [
      "\u001b[1m10/10\u001b[0m \u001b[32m━━━━━━━━━━━━━━━━━━━━\u001b[0m\u001b[37m\u001b[0m \u001b[1m3s\u001b[0m 101ms/step - accuracy: 0.4065 - loss: 1.0773 - val_accuracy: 0.4615 - val_loss: 1.0840\n",
      "Epoch 2/5\n",
      "\u001b[1m10/10\u001b[0m \u001b[32m━━━━━━━━━━━━━━━━━━━━\u001b[0m\u001b[37m\u001b[0m \u001b[1m1s\u001b[0m 51ms/step - accuracy: 0.5982 - loss: 0.9040 - val_accuracy: 0.4615 - val_loss: 1.0831\n",
      "Epoch 3/5\n",
      "\u001b[1m10/10\u001b[0m \u001b[32m━━━━━━━━━━━━━━━━━━━━\u001b[0m\u001b[37m\u001b[0m \u001b[1m1s\u001b[0m 51ms/step - accuracy: 0.6527 - loss: 0.8627 - val_accuracy: 0.5000 - val_loss: 1.0610\n",
      "Epoch 4/5\n",
      "\u001b[1m10/10\u001b[0m \u001b[32m━━━━━━━━━━━━━━━━━━━━\u001b[0m\u001b[37m\u001b[0m \u001b[1m1s\u001b[0m 50ms/step - accuracy: 0.6732 - loss: 0.7935 - val_accuracy: 0.4744 - val_loss: 1.0602\n",
      "Epoch 5/5\n",
      "\u001b[1m10/10\u001b[0m \u001b[32m━━━━━━━━━━━━━━━━━━━━\u001b[0m\u001b[37m\u001b[0m \u001b[1m1s\u001b[0m 51ms/step - accuracy: 0.6941 - loss: 0.7399 - val_accuracy: 0.4679 - val_loss: 1.0727\n",
      "\u001b[1m7/7\u001b[0m \u001b[32m━━━━━━━━━━━━━━━━━━━━\u001b[0m\u001b[37m\u001b[0m \u001b[1m1s\u001b[0m 96ms/step\n",
      "Image Size: (32, 32)\n",
      "              precision    recall  f1-score   support\n",
      "\n",
      "           0       0.54      0.66      0.59        88\n",
      "           1       0.48      0.49      0.49        84\n",
      "           2       0.50      0.04      0.08        23\n",
      "\n",
      "    accuracy                           0.51       195\n",
      "   macro avg       0.51      0.40      0.39       195\n",
      "weighted avg       0.51      0.51      0.49       195\n",
      "\n",
      "Epoch 1/5\n"
     ]
    },
    {
     "name": "stderr",
     "output_type": "stream",
     "text": [
      "/Users/dornlee/CodeBase/Fridges/.venv/lib/python3.9/site-packages/keras/src/layers/core/dense.py:87: UserWarning: Do not pass an `input_shape`/`input_dim` argument to a layer. When using Sequential models, prefer using an `Input(shape)` object as the first layer in the model instead.\n",
      "  super().__init__(activity_regularizer=activity_regularizer, **kwargs)\n"
     ]
    },
    {
     "name": "stdout",
     "output_type": "stream",
     "text": [
      "\u001b[1m10/10\u001b[0m \u001b[32m━━━━━━━━━━━━━━━━━━━━\u001b[0m\u001b[37m\u001b[0m \u001b[1m3s\u001b[0m 166ms/step - accuracy: 0.4143 - loss: 1.4750 - val_accuracy: 0.3654 - val_loss: 1.2865\n",
      "Epoch 2/5\n",
      "\u001b[1m10/10\u001b[0m \u001b[32m━━━━━━━━━━━━━━━━━━━━\u001b[0m\u001b[37m\u001b[0m \u001b[1m1s\u001b[0m 115ms/step - accuracy: 0.6767 - loss: 0.7782 - val_accuracy: 0.4808 - val_loss: 1.2252\n",
      "Epoch 3/5\n",
      "\u001b[1m10/10\u001b[0m \u001b[32m━━━━━━━━━━━━━━━━━━━━\u001b[0m\u001b[37m\u001b[0m \u001b[1m1s\u001b[0m 118ms/step - accuracy: 0.7833 - loss: 0.5378 - val_accuracy: 0.4679 - val_loss: 1.3488\n",
      "Epoch 4/5\n",
      "\u001b[1m10/10\u001b[0m \u001b[32m━━━━━━━━━━━━━━━━━━━━\u001b[0m\u001b[37m\u001b[0m \u001b[1m1s\u001b[0m 118ms/step - accuracy: 0.8630 - loss: 0.3950 - val_accuracy: 0.4359 - val_loss: 1.3501\n",
      "Epoch 5/5\n",
      "\u001b[1m10/10\u001b[0m \u001b[32m━━━━━━━━━━━━━━━━━━━━\u001b[0m\u001b[37m\u001b[0m \u001b[1m1s\u001b[0m 117ms/step - accuracy: 0.9329 - loss: 0.2845 - val_accuracy: 0.4936 - val_loss: 1.3774\n",
      "\u001b[1m7/7\u001b[0m \u001b[32m━━━━━━━━━━━━━━━━━━━━\u001b[0m\u001b[37m\u001b[0m \u001b[1m1s\u001b[0m 125ms/step\n",
      "Image Size: (64, 64)\n",
      "              precision    recall  f1-score   support\n",
      "\n",
      "           0       0.50      0.73      0.59        88\n",
      "           1       0.48      0.31      0.38        84\n",
      "           2       0.50      0.26      0.34        23\n",
      "\n",
      "    accuracy                           0.49       195\n",
      "   macro avg       0.49      0.43      0.44       195\n",
      "weighted avg       0.49      0.49      0.47       195\n",
      "\n",
      "Epoch 1/5\n"
     ]
    },
    {
     "name": "stderr",
     "output_type": "stream",
     "text": [
      "/Users/dornlee/CodeBase/Fridges/.venv/lib/python3.9/site-packages/keras/src/layers/core/dense.py:87: UserWarning: Do not pass an `input_shape`/`input_dim` argument to a layer. When using Sequential models, prefer using an `Input(shape)` object as the first layer in the model instead.\n",
      "  super().__init__(activity_regularizer=activity_regularizer, **kwargs)\n"
     ]
    },
    {
     "name": "stdout",
     "output_type": "stream",
     "text": [
      "\u001b[1m10/10\u001b[0m \u001b[32m━━━━━━━━━━━━━━━━━━━━\u001b[0m\u001b[37m\u001b[0m \u001b[1m6s\u001b[0m 463ms/step - accuracy: 0.4411 - loss: 1.6927 - val_accuracy: 0.4615 - val_loss: 1.3114\n",
      "Epoch 2/5\n",
      "\u001b[1m10/10\u001b[0m \u001b[32m━━━━━━━━━━━━━━━━━━━━\u001b[0m\u001b[37m\u001b[0m \u001b[1m4s\u001b[0m 400ms/step - accuracy: 0.6376 - loss: 0.7675 - val_accuracy: 0.4808 - val_loss: 1.0997\n",
      "Epoch 3/5\n",
      "\u001b[1m10/10\u001b[0m \u001b[32m━━━━━━━━━━━━━━━━━━━━\u001b[0m\u001b[37m\u001b[0m \u001b[1m4s\u001b[0m 401ms/step - accuracy: 0.7558 - loss: 0.5886 - val_accuracy: 0.4936 - val_loss: 1.1842\n",
      "Epoch 4/5\n",
      "\u001b[1m10/10\u001b[0m \u001b[32m━━━━━━━━━━━━━━━━━━━━\u001b[0m\u001b[37m\u001b[0m \u001b[1m4s\u001b[0m 402ms/step - accuracy: 0.8507 - loss: 0.4604 - val_accuracy: 0.4936 - val_loss: 1.1769\n",
      "Epoch 5/5\n",
      "\u001b[1m10/10\u001b[0m \u001b[32m━━━━━━━━━━━━━━━━━━━━\u001b[0m\u001b[37m\u001b[0m \u001b[1m4s\u001b[0m 403ms/step - accuracy: 0.9098 - loss: 0.3493 - val_accuracy: 0.4679 - val_loss: 1.2082\n",
      "\u001b[1m7/7\u001b[0m \u001b[32m━━━━━━━━━━━━━━━━━━━━\u001b[0m\u001b[37m\u001b[0m \u001b[1m2s\u001b[0m 237ms/step\n",
      "Image Size: (150, 150)\n",
      "              precision    recall  f1-score   support\n",
      "\n",
      "           0       0.58      0.66      0.62        88\n",
      "           1       0.49      0.42      0.45        84\n",
      "           2       0.17      0.17      0.17        23\n",
      "\n",
      "    accuracy                           0.50       195\n",
      "   macro avg       0.41      0.42      0.41       195\n",
      "weighted avg       0.49      0.50      0.49       195\n",
      "\n",
      "Epoch 1/5\n"
     ]
    },
    {
     "name": "stderr",
     "output_type": "stream",
     "text": [
      "/Users/dornlee/CodeBase/Fridges/.venv/lib/python3.9/site-packages/keras/src/layers/core/dense.py:87: UserWarning: Do not pass an `input_shape`/`input_dim` argument to a layer. When using Sequential models, prefer using an `Input(shape)` object as the first layer in the model instead.\n",
      "  super().__init__(activity_regularizer=activity_regularizer, **kwargs)\n"
     ]
    },
    {
     "name": "stdout",
     "output_type": "stream",
     "text": [
      "\u001b[1m10/10\u001b[0m \u001b[32m━━━━━━━━━━━━━━━━━━━━\u001b[0m\u001b[37m\u001b[0m \u001b[1m12s\u001b[0m 1s/step - accuracy: 0.4654 - loss: 1.3207 - val_accuracy: 0.5000 - val_loss: 1.1007\n",
      "Epoch 2/5\n",
      "\u001b[1m10/10\u001b[0m \u001b[32m━━━━━━━━━━━━━━━━━━━━\u001b[0m\u001b[37m\u001b[0m \u001b[1m10s\u001b[0m 998ms/step - accuracy: 0.6089 - loss: 0.8427 - val_accuracy: 0.4615 - val_loss: 1.0229\n",
      "Epoch 3/5\n",
      "\u001b[1m10/10\u001b[0m \u001b[32m━━━━━━━━━━━━━━━━━━━━\u001b[0m\u001b[37m\u001b[0m \u001b[1m10s\u001b[0m 997ms/step - accuracy: 0.7013 - loss: 0.6731 - val_accuracy: 0.5256 - val_loss: 1.0171\n",
      "Epoch 4/5\n",
      "\u001b[1m10/10\u001b[0m \u001b[32m━━━━━━━━━━━━━━━━━━━━\u001b[0m\u001b[37m\u001b[0m \u001b[1m10s\u001b[0m 995ms/step - accuracy: 0.7643 - loss: 0.5721 - val_accuracy: 0.5000 - val_loss: 1.0425\n",
      "Epoch 5/5\n",
      "\u001b[1m10/10\u001b[0m \u001b[32m━━━━━━━━━━━━━━━━━━━━\u001b[0m\u001b[37m\u001b[0m \u001b[1m10s\u001b[0m 996ms/step - accuracy: 0.8049 - loss: 0.4727 - val_accuracy: 0.4551 - val_loss: 1.0643\n",
      "\u001b[1m7/7\u001b[0m \u001b[32m━━━━━━━━━━━━━━━━━━━━\u001b[0m\u001b[37m\u001b[0m \u001b[1m4s\u001b[0m 449ms/step\n",
      "Image Size: (250, 250)\n",
      "              precision    recall  f1-score   support\n",
      "\n",
      "           0       0.57      0.74      0.64        88\n",
      "           1       0.60      0.44      0.51        84\n",
      "           2       0.47      0.39      0.43        23\n",
      "\n",
      "    accuracy                           0.57       195\n",
      "   macro avg       0.55      0.52      0.53       195\n",
      "weighted avg       0.57      0.57      0.56       195\n",
      "\n",
      "Epoch 1/5\n"
     ]
    },
    {
     "name": "stderr",
     "output_type": "stream",
     "text": [
      "/Users/dornlee/CodeBase/Fridges/.venv/lib/python3.9/site-packages/keras/src/layers/core/dense.py:87: UserWarning: Do not pass an `input_shape`/`input_dim` argument to a layer. When using Sequential models, prefer using an `Input(shape)` object as the first layer in the model instead.\n",
      "  super().__init__(activity_regularizer=activity_regularizer, **kwargs)\n"
     ]
    },
    {
     "name": "stdout",
     "output_type": "stream",
     "text": [
      "\u001b[1m10/10\u001b[0m \u001b[32m━━━━━━━━━━━━━━━━━━━━\u001b[0m\u001b[37m\u001b[0m \u001b[1m40s\u001b[0m 4s/step - accuracy: 0.3807 - loss: 1.5359 - val_accuracy: 0.4679 - val_loss: 1.0378\n",
      "Epoch 2/5\n",
      "\u001b[1m10/10\u001b[0m \u001b[32m━━━━━━━━━━━━━━━━━━━━\u001b[0m\u001b[37m\u001b[0m \u001b[1m37s\u001b[0m 4s/step - accuracy: 0.5792 - loss: 0.8668 - val_accuracy: 0.4679 - val_loss: 0.9645\n",
      "Epoch 3/5\n",
      "\u001b[1m10/10\u001b[0m \u001b[32m━━━━━━━━━━━━━━━━━━━━\u001b[0m\u001b[37m\u001b[0m \u001b[1m37s\u001b[0m 4s/step - accuracy: 0.6391 - loss: 0.8232 - val_accuracy: 0.4936 - val_loss: 0.9803\n",
      "Epoch 4/5\n",
      "\u001b[1m10/10\u001b[0m \u001b[32m━━━━━━━━━━━━━━━━━━━━\u001b[0m\u001b[37m\u001b[0m \u001b[1m37s\u001b[0m 4s/step - accuracy: 0.6764 - loss: 0.7584 - val_accuracy: 0.4872 - val_loss: 0.9576\n",
      "Epoch 5/5\n",
      "\u001b[1m10/10\u001b[0m \u001b[32m━━━━━━━━━━━━━━━━━━━━\u001b[0m\u001b[37m\u001b[0m \u001b[1m37s\u001b[0m 4s/step - accuracy: 0.7363 - loss: 0.6538 - val_accuracy: 0.4936 - val_loss: 0.9838\n",
      "\u001b[1m7/7\u001b[0m \u001b[32m━━━━━━━━━━━━━━━━━━━━\u001b[0m\u001b[37m\u001b[0m \u001b[1m10s\u001b[0m 1s/step\n",
      "Image Size: (500, 500)\n",
      "              precision    recall  f1-score   support\n",
      "\n",
      "           0       0.64      0.56      0.60        88\n",
      "           1       0.56      0.74      0.64        84\n",
      "           2       0.78      0.30      0.44        23\n",
      "\n",
      "    accuracy                           0.61       195\n",
      "   macro avg       0.66      0.53      0.56       195\n",
      "weighted avg       0.63      0.61      0.60       195\n",
      "\n"
     ]
    }
   ],
   "source": [
    "# List of image sizes\n",
    "image_size = [(32, 32), (64, 64), (150, 150), (250, 250), (500, 500)]\n",
    "\n",
    "# Epoch count, currently set to 5\n",
    "epochs = 5\n",
    "\n",
    "# Creating a list to store the image sizes and accuracy ratings for the ResNet model\n",
    "resNet_accuracy_results = []\n",
    "\n",
    "# Looping through each image size\n",
    "for size in image_size:\n",
    "    # Creating a list of each images numerical values\n",
    "    X = []\n",
    "\n",
    "    for file in files:\n",
    "        img = cv2.imread(file) \n",
    "        # Resizing the image based on the specific tuple in image_sizes\n",
    "        img = cv2.resize(img, (size[0], size[1]))  \n",
    "        X.append(img)\n",
    "\n",
    "    # Scaling the image data down to values between 0 and 1\n",
    "    X = np.array(X, dtype='float32') / 255.0\n",
    "    \n",
    "    # Train Test Split to split up the data into training and testing datasets with a current size of 80% training 20% testing data\n",
    "    X_train, X_test, Y_train, Y_test = train_test_split(X, Y, test_size=0.2, random_state=38)\n",
    "\n",
    "    # Creating a ResNet50V2 model, weights are based off the imagenet dataset and the input shape is set to the image size, currently only doing two layers\n",
    "    resbase = applications.ResNet50V2(weights = 'imagenet', include_top=False, input_shape= (size[0], size[1], 3))\n",
    "    # Allows only the new layers to be trainable\n",
    "    resbase.trainable = False\n",
    "    # Creating the sequential model utilziing the ResNet model instantiated before and adding more layers to be trained based on the current dataset\n",
    "    # Currently attempting with only 1 extra layer\n",
    "    resModel = models.Sequential([\n",
    "        # Calling the resbase which was assigned to the ResNet model created before\n",
    "        resbase,\n",
    "\n",
    "        # Adding our extra layers to be trained\n",
    "        layers.GlobalAveragePooling2D(),\n",
    "        layers.Dense(256, activation= 'relu', input_shape = (size[0], size[1], 3)),\n",
    "        \n",
    "        # Dense layer of size 3 to match the input size of the numpy array Y\n",
    "        layers.Dense(3, activation='softmax')\n",
    "    ])\n",
    "    \n",
    "    # Compiling the model utilizing the adam optimizer and categorical crossentropy \n",
    "    resModel.compile(optimizer='adam', loss='categorical_crossentropy', metrics=['accuracy'])\n",
    "    \n",
    "    # Fitting the model based on the TrainTestSplit data and epochs set from the value epochs\n",
    "    resModel.fit(X_train, Y_train, epochs = epochs, batch_size=64, validation_split=0.2)\n",
    "\n",
    "    # Predicting the outputs of the test data using the model\n",
    "    y_pred = resModel.predict(X_test)\n",
    "    \n",
    "    # Converting the One-Hot labels into class indices so they can be used to for evaluation\n",
    "    Y_test_classes = np.argmax(Y_test, axis=1)\n",
    "    Y_pred_classes = np.argmax(y_pred, axis = 1)\n",
    "    \n",
    "    # Calculating Evaluation Metrics\n",
    "    accuracy = accuracy_score(Y_test_classes, Y_pred_classes)\n",
    "    precision = precision_score(Y_test_classes,Y_pred_classes, average='weighted', zero_division=0)\n",
    "    recall = recall_score(Y_test_classes,Y_pred_classes, average='weighted', zero_division=0)\n",
    "    f1 = f1_score(Y_test_classes,Y_pred_classes, average='weighted', zero_division=0)\n",
    "    classification_rep = classification_report(Y_test_classes,Y_pred_classes)\n",
    "\n",
    "     # Appending all the evaluation metrics into the resNet_accuracy_results list\n",
    "    resNet_accuracy_results.append((size, accuracy, precision, recall, f1, classification_rep))\n",
    "\n",
    "    # Printing the Classification Report for that image size\n",
    "    print(f'Image Size: {size}')\n",
    "    print(classification_rep)"
   ]
  },
  {
   "cell_type": "markdown",
   "metadata": {},
   "source": [
    "# Graphing the Accuracy Ratings of the ResNet Model"
   ]
  },
  {
   "cell_type": "code",
   "execution_count": 14,
   "metadata": {},
   "outputs": [
    {
     "data": {
      "image/png": "[encoded data removed]",
      "text/plain": [
       "<Figure size 640x480 with 1 Axes>"
      ]
     },
     "metadata": {},
     "output_type": "display_data"
    }
   ],
   "source": [
    "# Creating variables for each item in conv_accuracy_results\n",
    "sizes, acc, prec, recall, f1, classrep = zip(*resNet_accuracy_results)\n",
    "\n",
    "# Converting the image sizes into a string so they can be used for the X axis\n",
    "sizes = [str(size) for size in sizes]\n",
    "\n",
    "# Plot showing the Evaluation Metrics compared to Image size\n",
    "plt.plot(sizes, acc, marker='o', color = 'g', label = 'Accuracy Score')\n",
    "# Not using recall as it is identical to the accuracy rating when tested currently\n",
    "#plt.plot(sizes, recall, marker='o', color = 'r', label = 'Recall Score')\n",
    "plt.plot(sizes, prec, marker='o', color = 'y', label = 'Precision Score')\n",
    "plt.plot(sizes, f1, marker='o', color = 'b', label = 'f1 Score')\n",
    "plt.title('Evaluation Metrics vs Image Size for ResNet')\n",
    "plt.xlabel('Image Size')\n",
    "plt.ylabel('Evaluation Score')\n",
    "plt.legend()\n",
    "plt.grid()\n",
    "plt.show()"
   ]
  },
  {
   "cell_type": "code",
   "execution_count": null,
   "metadata": {},
   "outputs": [],
   "source": []
  }
 ],
 "metadata": {
  "kernelspec": {
   "display_name": ".venv",
   "language": "python",
   "name": "python3"
  },
  "language_info": {
   "codemirror_mode": {
    "name": "ipython",
    "version": 3
   },
   "file_extension": ".py",
   "mimetype": "text/x-python",
   "name": "python",
   "nbconvert_exporter": "python",
   "pygments_lexer": "ipython3",
   "version": "3.9.6"
  }
 },
 "nbformat": 4,
 "nbformat_minor": 2
}
